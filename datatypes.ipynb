{
 "cells": [
  {
   "cell_type": "code",
   "execution_count": null,
   "metadata": {},
   "outputs": [
    {
     "name": "stdout",
     "output_type": "stream",
     "text": [
      "1\n",
      "<class 'int'>\n",
      "1000000000\n",
      "<class 'int'>\n"
     ]
    }
   ],
   "source": [
    "x = 1\n",
    "print(x)\n",
    "print(type(x))\n",
    "\n",
    "y=1000000000\n",
    "print (y)\n",
    "print (type(y))"
   ]
  },
  {
   "cell_type": "code",
   "execution_count": 2,
   "metadata": {},
   "outputs": [
    {
     "ename": "ValueError",
     "evalue": "invalid literal for int() with base 10: ''",
     "output_type": "error",
     "traceback": [
      "\u001b[0;31m---------------------------------------------------------------------------\u001b[0m",
      "\u001b[0;31mValueError\u001b[0m                                Traceback (most recent call last)",
      "Input \u001b[0;32mIn [2]\u001b[0m, in \u001b[0;36m<module>\u001b[0;34m\u001b[0m\n\u001b[0;32m----> 1\u001b[0m age \u001b[38;5;241m=\u001b[39m \u001b[38;5;28;43mint\u001b[39;49m\u001b[43m(\u001b[49m\u001b[38;5;28;43minput\u001b[39;49m\u001b[43m(\u001b[49m\u001b[38;5;124;43m\"\u001b[39;49m\u001b[38;5;124;43mplease enter your age\u001b[39;49m\u001b[38;5;124;43m\"\u001b[39;49m\u001b[43m)\u001b[49m\u001b[43m)\u001b[49m\n\u001b[1;32m      2\u001b[0m \u001b[38;5;28mprint\u001b[39m (age)\n\u001b[1;32m      3\u001b[0m \u001b[38;5;28mprint\u001b[39m (\u001b[38;5;28mtype\u001b[39m(age))\n",
      "\u001b[0;31mValueError\u001b[0m: invalid literal for int() with base 10: ''"
     ]
    }
   ],
   "source": [
    "age = int(input(\"please enter your age\"))\n",
    "print (age)\n",
    "print (type(age))\n",
    "\n",
    "z=3\n"
   ]
  },
  {
   "cell_type": "code",
   "execution_count": 3,
   "metadata": {},
   "outputs": [
    {
     "name": "stdout",
     "output_type": "stream",
     "text": [
      "1.83\n",
      "<class 'float'>\n"
     ]
    }
   ],
   "source": [
    "#Floating Point Numbers \n",
    "exchange_rate= 1.83\n",
    "print(exchange_rate)\n",
    "print(type(exchange_rate))"
   ]
  },
  {
   "cell_type": "code",
   "execution_count": 6,
   "metadata": {},
   "outputs": [
    {
     "name": "stdout",
     "output_type": "stream",
     "text": [
      "1.5\n",
      "<class 'float'>\n",
      "25\n",
      "int value as a float value 25.0\n"
     ]
    }
   ],
   "source": [
    "string_value= '1.5'\n",
    "int_value= 25\n",
    "float_value= float(string_value)\n",
    "\n",
    "print(string_value)\n",
    "print(type(float_value))\n",
    "print (int_value)\n",
    "\n",
    "float_value= float(int_value)\n",
    "print('int value as a float value', float_value)"
   ]
  },
  {
   "cell_type": "code",
   "execution_count": 9,
   "metadata": {},
   "outputs": [
    {
     "name": "stdout",
     "output_type": "stream",
     "text": [
      "1.2\n",
      "<class 'float'>\n"
     ]
    }
   ],
   "source": [
    "exchange_rate= float(input(\"Please enter the exchange rate to use: \"))\n",
    "print(exchange_rate)\n",
    "print(type(exchange_rate))"
   ]
  },
  {
   "cell_type": "code",
   "execution_count": 14,
   "metadata": {},
   "outputs": [
    {
     "name": "stdout",
     "output_type": "stream",
     "text": [
      "True\n",
      "<class 'bool'>\n",
      "False\n",
      "<class 'bool'>\n"
     ]
    }
   ],
   "source": [
    "#Boolean Values: Logical values (true/false)\n",
    "all_ok = True\n",
    "print(all_ok)\n",
    "print(type(all_ok))\n",
    "\n",
    "all_ok = False\n",
    "print(all_ok)\n",
    "print(type(all_ok))"
   ]
  },
  {
   "cell_type": "code",
   "execution_count": 16,
   "metadata": {},
   "outputs": [
    {
     "name": "stdout",
     "output_type": "stream",
     "text": [
      "1\n",
      "0\n",
      "True\n",
      "False\n"
     ]
    }
   ],
   "source": [
    "print(int(True))\n",
    "print(int(False))\n",
    "\n",
    "print(bool(1))\n",
    "print(bool(0))"
   ]
  },
  {
   "cell_type": "code",
   "execution_count": 22,
   "metadata": {},
   "outputs": [
    {
     "name": "stdout",
     "output_type": "stream",
     "text": [
      "False\n",
      "<class 'bool'>\n"
     ]
    }
   ],
   "source": [
    "status= bool(input(\"ok to proceed: \"))\n",
    "print(status)\n",
    "print(type(status))"
   ]
  },
  {
   "cell_type": "code",
   "execution_count": 28,
   "metadata": {},
   "outputs": [
    {
     "name": "stdout",
     "output_type": "stream",
     "text": [
      "25\n",
      "<class 'int'>\n",
      "150\n",
      "-5\n",
      "1.5\n",
      "1\n",
      "5\n"
     ]
    }
   ],
   "source": [
    "#Arithmetic Opertations\n",
    "home= 10\n",
    "away= 15\n",
    "print(home+away)\n",
    "print(type(home+ away))\n",
    "print(home*away)\n",
    "print (home-away)\n",
    "print(away/home)\n",
    "print(away//home)\n",
    "print(away%home)"
   ]
  },
  {
   "cell_type": "code",
   "execution_count": 32,
   "metadata": {},
   "outputs": [
    {
     "name": "stdout",
     "output_type": "stream",
     "text": [
      "bye\n"
     ]
    }
   ],
   "source": [
    "#Working with IF Statements \n",
    "num= int(input('Enter a number'))\n",
    "#if, for, loops need to end with a color (end the condition with a colon)\n",
    "if num < 0:\n",
    "    print(num, 'is negative')\n",
    "print(\"bye\")\n",
    "#the indention is important in python"
   ]
  },
  {
   "cell_type": "code",
   "execution_count": 42,
   "metadata": {},
   "outputs": [
    {
     "name": "stdout",
     "output_type": "stream",
     "text": [
      "Thank you\n"
     ]
    }
   ],
   "source": [
    "# IF and ELSE statment \n",
    "savings= float(input(\"Enter How much yout have in svaing: \"))\n",
    "\n",
    "if savings == 0:\n",
    "    print(\"sorry no savings\")\n",
    "elif savings < 500:\n",
    "    print(\"Well Done\")\n",
    "elif savings < 1000: \n",
    "    print(\"Thats a tidy Sum\")\n",
    "elif savings < 10000: \n",
    "    print(\"welcome\")\n",
    "else: \n",
    "    print(\"Thank you\")"
   ]
  },
  {
   "cell_type": "code",
   "execution_count": 48,
   "metadata": {},
   "outputs": [
    {
     "name": "stdout",
     "output_type": "stream",
     "text": [
      "It is freezing\n",
      "bye\n"
     ]
    }
   ],
   "source": [
    "#Nesting If Statements\n",
    "\n",
    "snowing = False \n",
    "temp= -9\n",
    "\n",
    "if temp < 0: \n",
    "    print (\"It is freezing\")\n",
    "    if snowing:\n",
    "        print (\"Put on Boots\")\n",
    "        print(\"Time for Coco\")\n",
    "    print (\"bye\")\n"
   ]
  },
  {
   "cell_type": "code",
   "execution_count": 53,
   "metadata": {},
   "outputs": [
    {
     "name": "stdout",
     "output_type": "stream",
     "text": [
      "not a teenager\n"
     ]
    }
   ],
   "source": [
    "#If expressions using multiple conditions \n",
    "\n",
    "age=50\n",
    "status = None\n",
    "\n",
    "if (age > 12) and (age < 20): \n",
    "    status = \"teenager\"\n",
    "else: \n",
    "    status = \"not a teenager\"\n",
    "print (status)"
   ]
  }
 ],
 "metadata": {
  "interpreter": {
   "hash": "aee8b7b246df8f9039afb4144a1f6fd8d2ca17a180786b69acc140d282b71a49"
  },
  "kernelspec": {
   "display_name": "Python 3.10.1 64-bit",
   "language": "python",
   "name": "python3"
  },
  "language_info": {
   "codemirror_mode": {
    "name": "ipython",
    "version": 3
   },
   "file_extension": ".py",
   "mimetype": "text/x-python",
   "name": "python",
   "nbconvert_exporter": "python",
   "pygments_lexer": "ipython3",
   "version": "3.10.1"
  },
  "orig_nbformat": 4
 },
 "nbformat": 4,
 "nbformat_minor": 2
}
