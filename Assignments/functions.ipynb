{
 "cells": [
  {
   "cell_type": "code",
   "execution_count": 3,
   "metadata": {},
   "outputs": [],
   "source": [
    "# Our New Function \n",
    "def greeting_hello(): \n",
    "    print(\"Hello from a function\")\n",
    "\n",
    "# Function with a Parameter \n",
    "def greeting_hello_name(name):\n",
    "    print(\"Hello\",name)\n",
    "\n",
    "\n"
   ]
  },
  {
   "cell_type": "code",
   "execution_count": 7,
   "metadata": {},
   "outputs": [
    {
     "name": "stdout",
     "output_type": "stream",
     "text": [
      "Hello from a function\n",
      "Hello Ariana\n",
      "Hello Ariana\n"
     ]
    }
   ],
   "source": [
    "greeting_hello()\n",
    "\n",
    "greeting_hello_name(\"Ariana\")\n",
    "# OR\n",
    "name= \"Ariana\"\n",
    "greeting_hello_name(name)\n"
   ]
  },
  {
   "cell_type": "code",
   "execution_count": 27,
   "metadata": {},
   "outputs": [],
   "source": [
    "#Arbittary Keyword Arguments, **kwarg\n",
    "# ** they mean you can how ever many input you want \n",
    "\n",
    "def print_last_name(**name): \n",
    "    print(\"The last names are\" + name[\"lname\"])\n",
    "    print(\"The last names are\" + name[\"tname\"])\n",
    "    print(\"The last names are\" + name[\"yname\"])\n",
    "\n",
    "# Not Abitary Keyword Arguments \n",
    "def print_last_name_copy(lname,tname,yname):\n",
    "    print(\"The last names are\" + lname)\n",
    "    print(\"The last names are\" + tname)\n",
    "    print(\"The last names are\" + yname)\n",
    "\n"
   ]
  },
  {
   "cell_type": "code",
   "execution_count": 28,
   "metadata": {},
   "outputs": [
    {
     "name": "stdout",
     "output_type": "stream",
     "text": [
      "The last names are Uwaibi\n",
      "The last names are Knight\n",
      "The last names are Long\n",
      "The last names are Uwaibi\n",
      "The last names are Knight\n",
      "The last names are Long\n"
     ]
    }
   ],
   "source": [
    "print_last_name(lname= \" Uwaibi\", tname= \" Knight\", yname= \" Long\")\n",
    "\n",
    "print_last_name_copy(lname= \" Uwaibi\", tname= \" Knight\", yname= \" Long\")"
   ]
  },
  {
   "cell_type": "code",
   "execution_count": 29,
   "metadata": {},
   "outputs": [],
   "source": [
    "def division_int(value_a, value_b): \n",
    "    return value_a/value_b"
   ]
  },
  {
   "cell_type": "code",
   "execution_count": 32,
   "metadata": {},
   "outputs": [
    {
     "name": "stdout",
     "output_type": "stream",
     "text": [
      "5.333333333333333\n"
     ]
    }
   ],
   "source": [
    "results= division_int(16,3)\n",
    "print(results)\n",
    "\n",
    "\n"
   ]
  },
  {
   "cell_type": "code",
   "execution_count": 38,
   "metadata": {},
   "outputs": [],
   "source": [
    "#additon  and substraction \n",
    "\n",
    "def add_it_up(num_a,num_b): \n",
    "    return(num_a + num_b)\n",
    "\n",
    "def sub_it_up(number_a,number_b):\n",
    "    return(number_a - number_b)\n"
   ]
  },
  {
   "cell_type": "code",
   "execution_count": 40,
   "metadata": {},
   "outputs": [
    {
     "name": "stdout",
     "output_type": "stream",
     "text": [
      "4\n",
      "0\n",
      "0\n"
     ]
    }
   ],
   "source": [
    "test_1= add_it_up(2,2)\n",
    "print(test_1)\n",
    "\n",
    "test_2= sub_it_up(2,2)\n",
    "print(test_2)\n",
    "\n",
    "\n",
    "#not saving global variable \n",
    "print(sub_it_up(2,2))"
   ]
  },
  {
   "cell_type": "code",
   "execution_count": 41,
   "metadata": {},
   "outputs": [],
   "source": [
    "def temp(snowing,temp): \n",
    "    if temp < 0: \n",
    "        print (\"It is freezing\")\n",
    "        if snowing:\n",
    "            print (\"Put on Boots\")\n",
    "            print(\"Time for Coco\")\n",
    "        print (\"bye\")"
   ]
  },
  {
   "cell_type": "code",
   "execution_count": 43,
   "metadata": {},
   "outputs": [
    {
     "name": "stdout",
     "output_type": "stream",
     "text": [
      "It is freezing\n",
      "bye\n"
     ]
    }
   ],
   "source": [
    "temp(False,-9)\n"
   ]
  }
 ],
 "metadata": {
  "interpreter": {
   "hash": "aee8b7b246df8f9039afb4144a1f6fd8d2ca17a180786b69acc140d282b71a49"
  },
  "kernelspec": {
   "display_name": "Python 3.10.1 64-bit",
   "language": "python",
   "name": "python3"
  },
  "language_info": {
   "codemirror_mode": {
    "name": "ipython",
    "version": 3
   },
   "file_extension": ".py",
   "mimetype": "text/x-python",
   "name": "python",
   "nbconvert_exporter": "python",
   "pygments_lexer": "ipython3",
   "version": "3.10.1"
  },
  "orig_nbformat": 4
 },
 "nbformat": 4,
 "nbformat_minor": 2
}
