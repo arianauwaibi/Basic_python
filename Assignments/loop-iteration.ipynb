{
 "cells": [
  {
   "cell_type": "code",
   "execution_count": 7,
   "metadata": {},
   "outputs": [
    {
     "name": "stdout",
     "output_type": "stream",
     "text": [
      "Starting\n",
      "0   1   2   3   4   5   6   7   8   9   \n",
      "Done\n"
     ]
    }
   ],
   "source": [
    "#Working with While loops\n",
    "\n",
    "count = 0 \n",
    "print('Starting')\n",
    "while count < 10:\n",
    "    print(count,\" \",end= \" \") #part of the while loop \n",
    "    count += 1 #this is same as count = count + 1\n",
    "print ()\n",
    "print('Done')\n"
   ]
  },
  {
   "cell_type": "code",
   "execution_count": 18,
   "metadata": {},
   "outputs": [
    {
     "name": "stdout",
     "output_type": "stream",
     "text": [
      "Print out values in a range\n",
      "0   1   2   3   4   5   6   7   8   9   \n",
      "Done\n"
     ]
    }
   ],
   "source": [
    "#Loop over set of values in a range \n",
    "    # it will only work to the value of 10\n",
    "print('Print out values in a range')\n",
    "for i in range (0,10):\n",
    "    print(i, ' ', end= ' ')\n",
    "print()\n",
    "print('Done')\n"
   ]
  },
  {
   "cell_type": "code",
   "execution_count": 23,
   "metadata": {},
   "outputs": [
    {
     "name": "stdout",
     "output_type": "stream",
     "text": [
      "0  2  4  6  8  \n",
      "Done\n"
     ]
    }
   ],
   "source": [
    "#Now use Values in a range by but increment by 2\n",
    "\n",
    "for i in range(0,10,2):\n",
    "    print(i, '', end=' ')\n",
    "print()\n",
    "print('Done')"
   ]
  },
  {
   "cell_type": "code",
   "execution_count": 28,
   "metadata": {},
   "outputs": [
    {
     "name": "stdout",
     "output_type": "stream",
     "text": [
      "Only print code if all interation completed\n",
      "Done\n"
     ]
    }
   ],
   "source": [
    "# Break Loop statement \n",
    "    #\n",
    "print( 'Only print code if all interation completed')\n",
    "num= int(input('Enter a number to check for:'))\n",
    "for i in range (0,6):\n",
    "    if i == num:\n",
    "            print(\"\\nWe are breaking the loop\",end = '\\n')\n",
    "            break\n",
    "    print(i,\" \", end=\"\")\n",
    "print('Done')"
   ]
  },
  {
   "cell_type": "code",
   "execution_count": 38,
   "metadata": {},
   "outputs": [
    {
     "name": "stdout",
     "output_type": "stream",
     "text": [
      "0 hey it is a even number\n",
      "2 hey it is a even number\n",
      "4 hey it is a even number\n",
      "6 hey it is a even number\n",
      "8 hey it is a even number\n",
      "Done\n"
     ]
    }
   ],
   "source": [
    "#Continue Loop Statement \n",
    "\n",
    "for i in range(0,10):\n",
    "    #print (i,' ', end= ' ')\n",
    "    if i%2 == 1:\n",
    "        continue\n",
    "    print (i,'hey it is a even number')\n",
    "print('Done')"
   ]
  }
 ],
 "metadata": {
  "interpreter": {
   "hash": "aee8b7b246df8f9039afb4144a1f6fd8d2ca17a180786b69acc140d282b71a49"
  },
  "kernelspec": {
   "display_name": "Python 3.10.1 64-bit",
   "language": "python",
   "name": "python3"
  },
  "language_info": {
   "codemirror_mode": {
    "name": "ipython",
    "version": 3
   },
   "file_extension": ".py",
   "mimetype": "text/x-python",
   "name": "python",
   "nbconvert_exporter": "python",
   "pygments_lexer": "ipython3",
   "version": "3.10.1"
  },
  "orig_nbformat": 4
 },
 "nbformat": 4,
 "nbformat_minor": 2
}
