{
 "cells": [
  {
   "cell_type": "code",
   "execution_count": 1,
   "metadata": {},
   "outputs": [],
   "source": [
    "import numpy as np\n"
   ]
  },
  {
   "cell_type": "code",
   "execution_count": 4,
   "metadata": {},
   "outputs": [
    {
     "name": "stdout",
     "output_type": "stream",
     "text": [
      "[[1 5 6]\n",
      " [8 5 9]\n",
      " [1 0 3]] \n",
      "\n",
      "[[12 20 -3]\n",
      " [ 5 -8  5]\n",
      " [ 6  9 17]]\n"
     ]
    }
   ],
   "source": [
    "# Create a two square matrix \n",
    "\n",
    "x= np.array([[1,5,6 ],[8,5,9],[1,0,3]])\n",
    "\n",
    "z= np.array([[12,20,-3],[5,-8,5],[6,9,17]])\n",
    "\n",
    "print(x,'\\n')\n",
    "print(z)"
   ]
  },
  {
   "cell_type": "code",
   "execution_count": 5,
   "metadata": {},
   "outputs": [
    {
     "name": "stdout",
     "output_type": "stream",
     "text": [
      "[[13 25  3]\n",
      " [13 -3 14]\n",
      " [ 7  9 20]] \n",
      "\n",
      "[[-11 -15   9]\n",
      " [  3  13   4]\n",
      " [ -5  -9 -14]]\n"
     ]
    }
   ],
   "source": [
    "#Add and Subtract the matrices x and z\n",
    "\n",
    "r_addit= x.__add__(z)\n",
    "r_subit = x.__sub__(z)\n",
    "\n",
    "print(r_addit,'\\n')\n",
    "print(r_subit)"
   ]
  },
  {
   "cell_type": "code",
   "execution_count": 6,
   "metadata": {},
   "outputs": [
    {
     "name": "stdout",
     "output_type": "stream",
     "text": [
      "[[ 12 100 -18]\n",
      " [ 40 -40  45]\n",
      " [  6   0  51]] \n",
      "\n",
      "[[ 73  34 124]\n",
      " [175 201 154]\n",
      " [ 30  47  48]]\n"
     ]
    }
   ],
   "source": [
    "#Multiplication \n",
    "\n",
    "#Piecewise= element by element \n",
    "# the two matrices have to be the exact same size \n",
    "r_pieceswise = x.__mul__(z)\n",
    "\n",
    "# rows by coulmn \n",
    "r_multipication = x.__matmul__(z)\n",
    "\n",
    "print( r_pieceswise,'\\n')\n",
    "print(r_multipication)"
   ]
  },
  {
   "cell_type": "code",
   "execution_count": 12,
   "metadata": {},
   "outputs": [],
   "source": [
    "# x1 + y= 2 and 10x*35y=30\n",
    "\n",
    "# Linear to matrix\n",
    "# [x+y=2]\n",
    "#[10x +35y=30]\n",
    "\n",
    "\n",
    "# the coeffiencts from the equation\n",
    "#A= [1 1\n",
    "#    10 35  ]\n",
    "\n",
    "#use the coeffiencts \n",
    "\n",
    "# the variables\n",
    "#x= [x\n",
    "#    y]\n",
    "\n",
    "\n",
    "\n",
    "#b= [2\n",
    "# 30]\n",
    "\n",
    "\n",
    "A= np.array([[1,1],[10,35]])\n",
    "b= np.array([[2],[30]])\n"
   ]
  },
  {
   "cell_type": "code",
   "execution_count": 13,
   "metadata": {},
   "outputs": [
    {
     "name": "stdout",
     "output_type": "stream",
     "text": [
      "dim. of matrix A=  (2, 2)\n",
      "dim of vector b= (2, 1)\n"
     ]
    }
   ],
   "source": [
    "# Verify the size of the matrix \n",
    "\n",
    "print('dim. of matrix A= ',A.shape)\n",
    "print('dim of vector b=',b.shape)\n",
    "\n"
   ]
  },
  {
   "cell_type": "code",
   "execution_count": 14,
   "metadata": {},
   "outputs": [
    {
     "data": {
      "text/plain": [
       "25.000000000000007"
      ]
     },
     "execution_count": 14,
     "metadata": {},
     "output_type": "execute_result"
    }
   ],
   "source": [
    "# Find the det of the function \n",
    "np.linalg.det(A)"
   ]
  },
  {
   "cell_type": "code",
   "execution_count": 15,
   "metadata": {},
   "outputs": [
    {
     "name": "stdout",
     "output_type": "stream",
     "text": [
      "[[ 1.4  -0.04]\n",
      " [-0.4   0.04]]\n"
     ]
    }
   ],
   "source": [
    "# Finding the inverse of the matrix \n",
    "\n",
    "inv_A = np.linalg.inv(A)\n",
    "print(inv_A)\n"
   ]
  },
  {
   "cell_type": "code",
   "execution_count": 17,
   "metadata": {},
   "outputs": [
    {
     "name": "stdout",
     "output_type": "stream",
     "text": [
      "[[1.6]\n",
      " [0.4]]\n"
     ]
    }
   ],
   "source": [
    "#Solve the equation \n",
    "\n",
    "sol = inv_A.dot(b)\n",
    "print(sol)"
   ]
  },
  {
   "cell_type": "code",
   "execution_count": 19,
   "metadata": {},
   "outputs": [
    {
     "data": {
      "text/plain": [
       "30.0"
      ]
     },
     "execution_count": 19,
     "metadata": {},
     "output_type": "execute_result"
    }
   ],
   "source": [
    "(1.6 + 0.4)\n",
    "(10*1.6 + 0.4*35)"
   ]
  }
 ],
 "metadata": {
  "interpreter": {
   "hash": "aee8b7b246df8f9039afb4144a1f6fd8d2ca17a180786b69acc140d282b71a49"
  },
  "kernelspec": {
   "display_name": "Python 3.10.1 64-bit",
   "language": "python",
   "name": "python3"
  },
  "language_info": {
   "codemirror_mode": {
    "name": "ipython",
    "version": 3
   },
   "file_extension": ".py",
   "mimetype": "text/x-python",
   "name": "python",
   "nbconvert_exporter": "python",
   "pygments_lexer": "ipython3",
   "version": "3.10.1"
  },
  "orig_nbformat": 4
 },
 "nbformat": 4,
 "nbformat_minor": 2
}
