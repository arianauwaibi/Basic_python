{
 "cells": [
  {
   "cell_type": "markdown",
   "metadata": {},
   "source": []
  },
  {
   "cell_type": "code",
   "execution_count": 1,
   "metadata": {},
   "outputs": [],
   "source": [
    "import numpy as np"
   ]
  },
  {
   "cell_type": "code",
   "execution_count": 8,
   "metadata": {},
   "outputs": [
    {
     "name": "stdout",
     "output_type": "stream",
     "text": [
      "<class 'numpy.ndarray'>\n",
      "(4,)\n",
      "1 3 4\n",
      "[7 2 3 4]\n"
     ]
    }
   ],
   "source": [
    "# Arrays with Numpy\n",
    "a = np.array([1,2,3,4])\n",
    "print(type(a))\n",
    "\n",
    "print(a.shape)\n",
    "print(a[0], a[2], a[3])\n",
    "\n",
    "a[0]=7\n",
    "print(a)"
   ]
  },
  {
   "cell_type": "code",
   "execution_count": 14,
   "metadata": {},
   "outputs": [
    {
     "name": "stdout",
     "output_type": "stream",
     "text": [
      "(2, 3)\n",
      "[[5 6 7]\n",
      " [6 4 9]]\n",
      "5 6 6\n"
     ]
    }
   ],
   "source": [
    "#each bracket represents a row \n",
    "# (row,column)\n",
    "b= np. array([[5,6,7],[6,4,9]])\n",
    "print(b. shape)\n",
    "print (b)\n",
    "print(b[0,0], b[0,1],b[1,0] )"
   ]
  },
  {
   "cell_type": "code",
   "execution_count": 32,
   "metadata": {},
   "outputs": [
    {
     "name": "stdout",
     "output_type": "stream",
     "text": [
      "[[0. 0.]\n",
      " [0. 0.]]\n",
      "[[1. 1.]\n",
      " [1. 1.]\n",
      " [1. 1.]]\n",
      "[[5 5 5 5]\n",
      " [5 5 5 5]\n",
      " [5 5 5 5]]\n",
      "[[1. 0. 0.]\n",
      " [0. 1. 0.]\n",
      " [0. 0. 1.]]\n",
      "[[0.50701306 0.06242632]\n",
      " [0.25829955 0.05490044]]\n",
      "[[113 122]\n",
      " [124 125]]\n"
     ]
    }
   ],
   "source": [
    "zero_array = np.zeros((2,2))\n",
    "print(zero_array)\n",
    "\n",
    "\n",
    "ones_array = np.ones((3,2))\n",
    "print(ones_array)\n",
    "\n",
    "# Why is this useful \n",
    "#used to create a matrice to futher put inputs into\n",
    "\n",
    "full_array= np.full((3,4),5)\n",
    "print(full_array)\n",
    "\n",
    "#Identity Matrix: Used for liner math\n",
    "#Square matrix- number of rows and columns are identifical \n",
    "#diaginal matrix (0,0) (1,1)(2,2)... etc. \n",
    "identity_array= np. eye(3)\n",
    "print(identity_array)\n",
    "\n",
    "random_array= np. random.random((2,2))\n",
    "print(random_array)\n",
    "\n",
    "random_array_int= np.random.randint(100,150,(2,2))\n",
    "print(random_array_int)\n"
   ]
  },
  {
   "cell_type": "code",
   "execution_count": 34,
   "metadata": {},
   "outputs": [
    {
     "name": "stdout",
     "output_type": "stream",
     "text": [
      "[122 125]\n"
     ]
    }
   ],
   "source": [
    "print(random_array_int[:,1])\n"
   ]
  }
 ],
 "metadata": {
  "interpreter": {
   "hash": "aee8b7b246df8f9039afb4144a1f6fd8d2ca17a180786b69acc140d282b71a49"
  },
  "kernelspec": {
   "display_name": "Python 3.10.1 64-bit",
   "language": "python",
   "name": "python3"
  },
  "language_info": {
   "codemirror_mode": {
    "name": "ipython",
    "version": 3
   },
   "file_extension": ".py",
   "mimetype": "text/x-python",
   "name": "python",
   "nbconvert_exporter": "python",
   "pygments_lexer": "ipython3",
   "version": "3.10.1"
  },
  "orig_nbformat": 4
 },
 "nbformat": 4,
 "nbformat_minor": 2
}
