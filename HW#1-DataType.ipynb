{
 "cells": [
  {
   "cell_type": "code",
   "execution_count": null,
   "metadata": {},
   "outputs": [],
   "source": []
  },
  {
   "cell_type": "markdown",
   "metadata": {},
   "source": [
    "# <center> Python Data Types \n",
    "## <center> Homework #1\n",
    "### <center>MAT4906 (ML)"
   ]
  },
  {
   "cell_type": "markdown",
   "metadata": {},
   "source": [
    "### Problem 1.\n",
    "Create an integer variable called x that recieved any integer value using input function. Print the value of the variable and its type."
   ]
  },
  {
   "cell_type": "code",
   "execution_count": 3,
   "metadata": {},
   "outputs": [
    {
     "name": "stdout",
     "output_type": "stream",
     "text": [
      "12\n"
     ]
    }
   ],
   "source": [
    "x= int(input('Enter value'))\n",
    "print(x)"
   ]
  },
  {
   "cell_type": "markdown",
   "metadata": {},
   "source": [
    "### Problem 2.\n",
    "Write an algorithm to settle the following question: If Sam lends $1,500 to his friend at an annual interest rate of %4.3, compounded per month. Calculate the interest after the end of the year by using the compount interest formula. The program must print the computed value. "
   ]
  },
  {
   "cell_type": "code",
   "execution_count": 20,
   "metadata": {},
   "outputs": [
    {
     "name": "stdout",
     "output_type": "stream",
     "text": [
      "65.78649425128197\n"
     ]
    }
   ],
   "source": [
    "#P= Principal investment $1500\n",
    "p = 1500\n",
    "\n",
    "#Annual Interest Rate= 4.3%\n",
    "interest_rate= 0.043\n",
    "\n",
    "#num_compunded = number of times interest is compound by time \n",
    "num_compound =  12\n",
    "\n",
    "#time = 1 (end of one year)\n",
    "time= 1\n",
    "\n",
    "Compound_interest = p*( 1 + interest_rate/num_compound)**(num_compound * time) - p\n",
    "print(Compound_interest)\n"
   ]
  },
  {
   "cell_type": "code",
   "execution_count": 21,
   "metadata": {},
   "outputs": [
    {
     "name": "stdout",
     "output_type": "stream",
     "text": [
      "65.78649425128197\n"
     ]
    }
   ],
   "source": [
    "A = (1500*( 1 + 0.043/12)**(12*1)) - 1500\n",
    "print (A)"
   ]
  },
  {
   "cell_type": "markdown",
   "metadata": {},
   "source": [
    "### Problem 3\n",
    "Write a program that reads three numbers and prints \"increasing\" if they are in increasing order, \"decreasing\" if they are in decreasing order, and \"neither\" otherwise. Here, increasing measns \"strictly increasing\", with each value larger than its predecessor. Example; The sequence 3 4 4 would not be considered increasing. The sequence 4 7 9 is increasing and sequence 8 3 1 is decreasing."
   ]
  },
  {
   "cell_type": "code",
   "execution_count": 4,
   "metadata": {},
   "outputs": [
    {
     "name": "stdout",
     "output_type": "stream",
     "text": [
      "7 6 5\n",
      "decreasing\n"
     ]
    }
   ],
   "source": [
    "a= 7\n",
    "b=6\n",
    "c=5\n",
    "\n",
    "print(a,b,c)\n",
    "\n",
    "if a > b > c: \n",
    "    print('decreasing')\n",
    "elif a < b < c: \n",
    "    print ('increasing')\n",
    "else: \n",
    "    print('neither') \n"
   ]
  },
  {
   "cell_type": "markdown",
   "metadata": {},
   "source": [
    "### Problem 4\n",
    "\n",
    "The original U.S income tax of 1913 was quite simple. The tax was;\n",
    "* 1 percent on the first $50,000.\n",
    "* 2 percent on the amount over $50,000 up to $75,000.\n",
    "* 3 percent on the amount over $75,000 up to $100,000.\n",
    "* 4 percent on the amount over $250,000 up to $500,000.\n",
    "\n",
    "There was no separate schedule for single or married taxpayers. Write a program that computes the income tax according to this schedule."
   ]
  },
  {
   "cell_type": "code",
   "execution_count": null,
   "metadata": {},
   "outputs": [],
   "source": []
  },
  {
   "cell_type": "markdown",
   "metadata": {},
   "source": [
    "## Problem 5\n",
    "\n",
    "Write a <strong><em>while</em></strong> loop that prints.\n",
    "* All squares less than given number n. For example, if n is 100, print 0 1 4 9 16 25 36 49 64 81\n",
    "* All positive number that are divisible by 10 and less than n. For example, 10 20 30 40 50 60 70 80 90\n",
    "* All power of two less than n. For example, if n is 100, print 1 2 4 8 16 32 64."
   ]
  },
  {
   "cell_type": "markdown",
   "metadata": {},
   "source": []
  },
  {
   "cell_type": "markdown",
   "metadata": {},
   "source": [
    "### Problem 6\n",
    "Using a for loop, write a program that prompts the user for an integer and then prints out all prime numbers up to that integer. For example, when the user enter 20, the program should print 2 3 5 7 11 13 17 19."
   ]
  },
  {
   "cell_type": "code",
   "execution_count": null,
   "metadata": {},
   "outputs": [],
   "source": []
  },
  {
   "cell_type": "markdown",
   "metadata": {},
   "source": [
    "Scoring:\n",
    "\n",
    "Problem 1 ---> 5 pts.\n",
    "\n",
    "Problem 2 ---> 8 pts.\n",
    "\n",
    "Problem 3 ---> 10 pts.\n",
    "\n",
    "Problem 4 ---> 15 pts.\n",
    "\n",
    "Problem 5 ---> 15 pts.\n",
    "\n",
    "Problem 6 ---> 8 pts.\n",
    "\n",
    "Total poinsts = 61 pts."
   ]
  },
  {
   "cell_type": "code",
   "execution_count": null,
   "metadata": {},
   "outputs": [],
   "source": []
  }
 ],
 "metadata": {
  "interpreter": {
   "hash": "31f2aee4e71d21fbe5cf8b01ff0e069b9275f58929596ceb00d14d90e3e16cd6"
  },
  "kernelspec": {
   "display_name": "Python 3.8.9 64-bit",
   "language": "python",
   "name": "python3"
  },
  "language_info": {
   "codemirror_mode": {
    "name": "ipython",
    "version": 3
   },
   "file_extension": ".py",
   "mimetype": "text/x-python",
   "name": "python",
   "nbconvert_exporter": "python",
   "pygments_lexer": "ipython3",
   "version": "3.10.1"
  },
  "orig_nbformat": 4
 },
 "nbformat": 4,
 "nbformat_minor": 2
}
